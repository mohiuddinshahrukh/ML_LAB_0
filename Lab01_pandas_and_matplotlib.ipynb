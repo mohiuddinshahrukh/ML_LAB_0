{
  "cells": [
    {
      "cell_type": "markdown",
      "metadata": {
        "id": "j8-gko8xakOl"
      },
      "source": [
        "## Learning Pandas and Matplotlib"
      ]
    },
    {
      "cell_type": "markdown",
      "metadata": {
        "collapsed": true,
        "id": "iAuLtQaoakOn"
      },
      "source": [
        "Pandas is Pythons library that enables broad possibilities for data analysis.\n",
        "By using Pandas it is very easy to upload, manage and analyse data from different tables by using SQL-like commands. Moreover, in connection with the libraries Matplotlib and Seaborn, Pandas gives broad possibilites to visualise the data."
      ]
    },
    {
      "cell_type": "code",
      "execution_count": null,
      "metadata": {
        "id": "aHDfsOWGakOo"
      },
      "outputs": [],
      "source": [
        "#First import the libraries/packages we need\n",
        "import pandas as pd\n",
        "import numpy as np\n",
        "\n",
        "from matplotlib import pyplot as plt\n",
        "from matplotlib.pyplot import rcParams\n",
        "rcParams['figure.figsize'] = 8, 5\n",
        "import seaborn as sns"
      ]
    },
    {
      "cell_type": "markdown",
      "metadata": {
        "id": "nV8LcD4xakOp"
      },
      "source": [
        "We study the main methods of Pandas and Matplotlib packages by working with the dataset that describes the churn rate of the customers of a telecom company. "
      ]
    },
    {
      "cell_type": "markdown",
      "metadata": {
        "id": "QkwfvpoWakOp"
      },
      "source": [
        "<b>Exercise 1:</b>\n",
        "\n",
        "Read the data from the file 'telecom_churn.csv' and display the first 5 rows by using the method 'head'. <b> Hint :</b> The method read_csv can be useful"
      ]
    },
    {
      "cell_type": "code",
      "execution_count": null,
      "metadata": {
        "id": "_OHz_wqyakOq"
      },
      "outputs": [],
      "source": [
        "### Write Your code here ###\n"
      ]
    },
    {
      "cell_type": "markdown",
      "metadata": {
        "id": "oRwCQEbhakOq"
      },
      "source": [
        "<b>Exercise 2:</b>\n",
        "\n",
        "Display the size of the data array, information about it, and its main statistical characteristics. <b>Hint:</b> use methods shape, info, describe."
      ]
    },
    {
      "cell_type": "code",
      "execution_count": null,
      "metadata": {
        "id": "XP2vrAmzakOq"
      },
      "outputs": [],
      "source": [
        "### Write Your code here ###\n"
      ]
    },
    {
      "cell_type": "markdown",
      "metadata": {
        "id": "SrWD6ec5akOr"
      },
      "source": [
        "<b>Exercise 3:\n",
        "\n",
        "</b>Convert the column 'Churn' to the int64 type. <b> Hint:</b> use the astype method \n",
        "\n",
        "Plot the distribution of the churn and  loyal clients in the bar plot. The figure should look like this:\n",
        "\n",
        "<img src=\"dist_churn.png\">"
      ]
    },
    {
      "cell_type": "code",
      "execution_count": null,
      "metadata": {
        "id": "0Q5OVlKzakOs"
      },
      "outputs": [],
      "source": [
        "### Write Your code here ###\n"
      ]
    },
    {
      "cell_type": "markdown",
      "metadata": {
        "id": "mrShk3AIakOs"
      },
      "source": [
        "### Sorting\n",
        "\n",
        "<b>Exercise 4:</b>\n",
        "\n",
        "Sort the dataframe you have obtained in exercise 3 by the value in 'Total day charge' in descending/ascending order.\n",
        "Also sort it by using the column 'Churn' as the primary key and 'Total eve calls' as the secondary key. Try different combinations of ordering. \n",
        "\n",
        "<b> Hint:</b> use the method sort_values"
      ]
    },
    {
      "cell_type": "code",
      "execution_count": null,
      "metadata": {
        "id": "iygYo9eDakOt"
      },
      "outputs": [],
      "source": [
        "### Write Your code here ###\n"
      ]
    },
    {
      "cell_type": "markdown",
      "metadata": {
        "id": "fqbnbofUakOt"
      },
      "source": [
        "### Indexing and extracting information from the dataframe\n",
        "\n",
        "By using Pandas dataframes we are able to index and extract information from the dataset. You can index the information stored in dataframe either by names or by indices. In the first case you use the command loc, in the second iloc. \n",
        "\n",
        "<b> Hint: </b> Use logical indexing for the columns and the groupby method to solve the tasks.\n",
        "\n",
        "<b>Exercise 5:</b>\n",
        "* Display the mean churn rate of the clients.\n",
        "* Now we want to analyse statistical information only for the clients, which are or aren't loyal to their telecom-company (field 'Churn' in dataframe). Extract the loyal and non-loyal clients from the table separately and display the means of their charateristics in a single dataframe.\n",
        "* How long do the non-loyal users talk during the day (on average)?\n",
        "* What is the maximum length of the international calls for the loyal users that do not use the international plan?"
      ]
    },
    {
      "cell_type": "code",
      "execution_count": null,
      "metadata": {
        "id": "CZuol6v6akOu"
      },
      "outputs": [],
      "source": [
        "### Write Your code here ###\n"
      ]
    },
    {
      "cell_type": "markdown",
      "metadata": {
        "collapsed": true,
        "id": "5FiSJtOvakOu"
      },
      "source": [
        "### Distribution of the features\n",
        "\n",
        "<b>Exercise 6:</b>\n",
        "\n",
        "Plot the distribution of the features that have numerical values. \n",
        "\n",
        "<b> Hint: </b>use the method hist which can also be applied from the pandas dataframe. It should look like that:\n",
        "<img src=\"hist_feat.png\">\n",
        "\n",
        "What do you observe? From which probability distribution could each feature be generated?"
      ]
    },
    {
      "cell_type": "code",
      "execution_count": null,
      "metadata": {
        "id": "c2a0RIW9akOu"
      },
      "outputs": [],
      "source": [
        "### Write Your code here ###\n"
      ]
    },
    {
      "cell_type": "markdown",
      "metadata": {
        "id": "kCfJo3lrakOv"
      },
      "source": [
        "### Pivot tables and graphics\n",
        "\n",
        "We want to see how the instances are distributed between two categories: 'International plan' and 'Churn'. \n",
        "\n",
        "<b>Exercise 7:</b>\n",
        "* Build the cross table between the features using the method <i>crosstab</i>.\n",
        "* Visualize the distribution for the feature 'Churn', depending on the value of the features 'International plan', 'Voice mail plan', and 'Customer service calls'.\n",
        "<b>Hint:</b> Use commands plt.sublot and sns.subplots.\n",
        "\n",
        "Your plot should look something like this:\n",
        "<img src=\"dist_crosstab.png\">\n",
        "\n",
        "What do you see? What conclusions can be drawn? What feature (intuitively) can be more important for Churn prediction?"
      ]
    },
    {
      "cell_type": "code",
      "execution_count": null,
      "metadata": {
        "id": "XwO7vIx0akOv"
      },
      "outputs": [],
      "source": [
        "### Write Your code here ###\n"
      ]
    },
    {
      "cell_type": "markdown",
      "metadata": {
        "id": "OVzZA0z0akOv"
      },
      "source": [
        "<b>Exercise 8:</b>\n",
        "\n",
        "Add a new feature to the dataframe which will describe whether or not the user has done more than 3 service calls. Investigate how this feature describes the churn rate."
      ]
    },
    {
      "cell_type": "code",
      "execution_count": null,
      "metadata": {
        "id": "yf434v4bakOv"
      },
      "outputs": [],
      "source": [
        "### Write Your code here ###\n"
      ]
    }
  ],
  "metadata": {
    "kernelspec": {
      "display_name": "Python 3",
      "language": "python",
      "name": "python3"
    },
    "language_info": {
      "codemirror_mode": {
        "name": "ipython",
        "version": 3
      },
      "file_extension": ".py",
      "mimetype": "text/x-python",
      "name": "python",
      "nbconvert_exporter": "python",
      "pygments_lexer": "ipython3",
      "version": "3.7.5"
    },
    "colab": {
      "provenance": []
    }
  },
  "nbformat": 4,
  "nbformat_minor": 0
}